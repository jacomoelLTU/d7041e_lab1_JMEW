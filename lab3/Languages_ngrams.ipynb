{
 "cells": [
  {
   "cell_type": "code",
   "execution_count": 135,
   "metadata": {},
   "outputs": [],
   "source": [
    "import numpy as np\n",
    "import scipy.io\n",
    "import itertools # for generting all possible n-grams\n",
    "import sklearn.metrics\n",
    "\n",
    "#for visualization\n",
    "import seaborn as sn\n",
    "import pandas as pd\n",
    "import matplotlib.pyplot as plt\n",
    "\n",
    "n_g=2 # n-gram size\n",
    "data = scipy.io.loadmat('languages_data.mat')\n",
    "alphabet=(data['alphabet'])\n",
    "alphabet=str(alphabet[0]) # turn into string\n",
    "N_GRAMS=[p for p in itertools.product(alphabet, repeat=n_g)] # get all possible n-grams\n",
    "\n",
    "# get data from the file\n",
    "chop_size=int(data['chop_size'])\n",
    "exm_size=int(data['exm_size'])\n",
    "langLabels=(data['langLabels'])\n",
    "testing=(data['testing'])\n",
    "training=(data['training'])\n",
    "\n",
    "\n"
   ]
  },
  {
   "cell_type": "code",
   "execution_count": 139,
   "metadata": {},
   "outputs": [
    {
     "name": "stdout",
     "output_type": "stream",
     "text": [
      "['nld']\n",
      "[' juist om die ruimte te scheppen op deze site vindt u meer informatie over onze producten in zeeland kan de formatie van naaldwijk direct bovenop de formatie van maassluis liggen op zoek naar een unieke beleving sinds heeft hij een breed scala aan kennis en ervaring opgebouwd in de administratieve informatievoorziening de centrumlinkse kandidaat kreeg iets meer dan procent van de stemmen perfect internetworking solutions stelt de software van realaudio en realvideo gratis beschikbaar we kunnen nu opnieuw uit respect voor de kiezer geen steun verlenen aan heijenk over andere punten die de advocaat van louwes had aangedragen aan de hoge raad adviseert de advocaatgeneraal negatief die zijn in zijn ogen niet voldoende om de zaak ter herzien met de half miljard aan extra middelen moeten docenten worden bijgeschoold en ondersteund ook hierbij is de afsluiting zeer belangrijk om geen reinfectie te krijgen bij sylkamode vindt u een grote kast gevuld met allerlei kralen pijpjeskralen pailletten']\n",
      "1000\n"
     ]
    }
   ],
   "source": [
    "# Print an example of a text in the training data\n",
    "ind=3;\n",
    "print(langLabels[0][ind])\n",
    "print(training[0][ind])\n",
    "print (chop_size)"
   ]
  },
  {
   "cell_type": "code",
   "execution_count": 140,
   "metadata": {},
   "outputs": [
    {
     "name": "stdout",
     "output_type": "stream",
     "text": [
      "['bul']\n",
      "['ces']\n",
      "['dan']\n",
      "['nld']\n",
      "['deu']\n",
      "['eng']\n",
      "['est']\n",
      "['fin']\n",
      "['fra']\n",
      "['ell']\n",
      "['hun']\n",
      "['ita']\n",
      "['lav']\n",
      "['lit']\n",
      "['pol']\n",
      "['por']\n",
      "['ron']\n",
      "['slk']\n",
      "['slv']\n",
      "['spa']\n",
      "['swe']\n",
      "[0.         0.04877643 0.02926586 0.01951057 0.07804228 0.02926586\n",
      " 0.         0.02926586 0.         0.01951057 0.         0.068287\n",
      " 0.03902114 0.068287   0.17559513 0.07804228 0.17559513 0.\n",
      " 0.02926586 0.17559513 0.05853171 0.00975529 0.14632928 0.\n",
      " 0.         0.         0.05853171 0.44874312 0.         0.\n",
      " 0.00975529 0.01951057 0.         0.         0.         0.\n",
      " 0.00975529 0.         0.13657399 0.05853171 0.00975529 0.02926586\n",
      " 0.         0.00975529 0.         0.01951057 0.05853171 0.20486099\n",
      " 0.         0.05853171 0.         0.         0.         0.01951057\n",
      " 0.         0.00975529 0.         0.         0.00975529 0.00975529\n",
      " 0.         0.         0.         0.01951057 0.         0.\n",
      " 0.00975529 0.         0.00975529 0.00975529 0.         0.\n",
      " 0.         0.         0.         0.00975529 0.         0.\n",
      " 0.         0.         0.         0.         0.         0.\n",
      " 0.         0.         0.         0.         0.         0.10730814\n",
      " 0.         0.         0.         0.         0.         0.\n",
      " 0.         0.         0.         0.         0.         0.\n",
      " 0.         0.         0.         0.         0.         0.\n",
      " 0.00975529 0.04877643 0.         0.         0.         0.01951057\n",
      " 0.         0.         0.         0.02926586 0.         0.\n",
      " 0.         0.         0.00975529 0.09755285 0.         0.\n",
      " 0.01951057 0.01951057 0.         0.         0.04877643 0.\n",
      " 0.         0.         0.         0.16583985 0.00975529 0.00975529\n",
      " 0.00975529 0.07804228 0.         0.         0.         0.\n",
      " 0.         0.         0.03902114 0.01951057 0.03902114 0.05853171\n",
      " 0.         0.00975529 0.         0.02926586 0.03902114 0.03902114\n",
      " 0.         0.00975529 0.         0.         0.         0.00975529\n",
      " 0.         0.         0.         0.         0.         0.\n",
      " 0.         0.         0.         0.00975529 0.         0.\n",
      " 0.         0.         0.         0.         0.         0.\n",
      " 0.         0.         0.         0.         0.         0.\n",
      " 0.         0.         0.         0.         0.03902114 0.\n",
      " 0.         0.         0.         0.         0.         0.\n",
      " 0.         0.         0.         0.         0.         0.00975529\n",
      " 0.02926586 0.         0.         0.00975529 0.         0.\n",
      " 0.         0.         0.         0.         0.         0.\n",
      " 0.01951057 0.068287   0.         0.04877643 0.         0.07804228\n",
      " 0.         0.         0.         0.00975529 0.         0.01951057\n",
      " 0.         0.         0.02926586 0.01951057 0.         0.\n",
      " 0.00975529 0.         0.         0.00975529 0.         0.\n",
      " 0.         0.         0.         0.23412684 0.15608456 0.00975529\n",
      " 0.00975529 0.00975529 0.         0.         0.01951057 0.\n",
      " 0.05853171 0.         0.03902114 0.02926586 0.         0.04877643\n",
      " 0.         0.         0.         0.01951057 0.03902114 0.16583985\n",
      " 0.00975529 0.00975529 0.         0.         0.         0.02926586\n",
      " 0.         0.         0.         0.         0.         0.\n",
      " 0.         0.         0.         0.         0.         0.\n",
      " 0.         0.         0.         0.         0.         0.\n",
      " 0.         0.         0.         0.         0.         0.\n",
      " 0.         0.         0.         0.02926586 0.08779757 0.\n",
      " 0.         0.         0.         0.         0.         0.09755285\n",
      " 0.03902114 0.         0.         0.00975529 0.         0.\n",
      " 0.05853171 0.         0.         0.00975529 0.04877643 0.02926586\n",
      " 0.01951057 0.01951057 0.         0.         0.         0.\n",
      " 0.01951057 0.02926586 0.         0.         0.         0.05853171\n",
      " 0.         0.00975529 0.         0.068287   0.         0.01951057\n",
      " 0.         0.         0.00975529 0.03902114 0.         0.\n",
      " 0.         0.00975529 0.         0.         0.         0.\n",
      " 0.         0.         0.         0.         0.00975529 0.\n",
      " 0.00975529 0.         0.04877643 0.         0.         0.\n",
      " 0.02926586 0.         0.         0.         0.         0.00975529\n",
      " 0.02926586 0.         0.         0.         0.         0.\n",
      " 0.         0.01951057 0.         0.         0.         0.\n",
      " 0.04877643 0.15608456 0.         0.         0.05853171 0.02926586\n",
      " 0.         0.         0.         0.11706342 0.         0.\n",
      " 0.         0.         0.         0.068287   0.         0.\n",
      " 0.         0.00975529 0.02926586 0.         0.         0.\n",
      " 0.         0.         0.         0.13657399 0.         0.00975529\n",
      " 0.         0.02926586 0.00975529 0.00975529 0.00975529 0.\n",
      " 0.04877643 0.         0.03902114 0.04877643 0.00975529 0.07804228\n",
      " 0.         0.         0.         0.08779757 0.05853171 0.08779757\n",
      " 0.         0.07804228 0.         0.         0.         0.01951057\n",
      " 0.         0.01951057 0.         0.         0.         0.01951057\n",
      " 0.         0.         0.         0.00975529 0.         0.\n",
      " 0.00975529 0.         0.         0.09755285 0.         0.\n",
      " 0.09755285 0.         0.01951057 0.         0.         0.\n",
      " 0.         0.         0.         0.         0.         0.\n",
      " 0.         0.         0.         0.         0.         0.\n",
      " 0.         0.         0.         0.         0.         0.\n",
      " 0.         0.         0.         0.         0.         0.\n",
      " 0.         0.         0.         0.         0.         0.\n",
      " 0.00975529 0.068287   0.         0.         0.         0.09755285\n",
      " 0.         0.01951057 0.         0.12681871 0.         0.01951057\n",
      " 0.         0.         0.00975529 0.068287   0.         0.\n",
      " 0.         0.00975529 0.01951057 0.02926586 0.00975529 0.\n",
      " 0.         0.         0.         0.01951057 0.068287   0.\n",
      " 0.         0.         0.00975529 0.         0.         0.07804228\n",
      " 0.13657399 0.         0.03902114 0.01951057 0.         0.\n",
      " 0.01951057 0.04877643 0.         0.03902114 0.         0.09755285\n",
      " 0.         0.01951057 0.         0.         0.         0.\n",
      " 0.10730814 0.12681871 0.01951057 0.         0.         0.09755285\n",
      " 0.         0.         0.         0.05853171 0.         0.00975529\n",
      " 0.         0.         0.00975529 0.11706342 0.         0.\n",
      " 0.068287   0.11706342 0.01951057 0.         0.01951057 0.\n",
      " 0.         0.         0.         0.00975529 0.         0.00975529\n",
      " 0.         0.00975529 0.         0.         0.         0.\n",
      " 0.         0.         0.00975529 0.         0.02926586 0.\n",
      " 0.         0.00975529 0.         0.         0.00975529 0.\n",
      " 0.         0.         0.         0.         0.         0.\n",
      " 0.08779757 0.10730814 0.         0.         0.00975529 0.05853171\n",
      " 0.         0.         0.         0.04877643 0.         0.\n",
      " 0.00975529 0.         0.02926586 0.02926586 0.01951057 0.\n",
      " 0.04877643 0.         0.         0.         0.         0.\n",
      " 0.         0.         0.         0.         0.         0.\n",
      " 0.         0.         0.         0.         0.         0.\n",
      " 0.         0.         0.         0.         0.         0.\n",
      " 0.         0.         0.         0.         0.         0.\n",
      " 0.         0.         0.         0.         0.         0.\n",
      " 0.         0.         0.         0.         0.         0.\n",
      " 0.         0.         0.         0.         0.         0.\n",
      " 0.         0.         0.         0.         0.         0.\n",
      " 0.         0.         0.         0.         0.         0.\n",
      " 0.         0.         0.         0.         0.         0.\n",
      " 0.         0.         0.         0.         0.         0.\n",
      " 0.         0.         0.         0.         0.         0.\n",
      " 0.         0.         0.         0.         0.         0.\n",
      " 0.         0.         0.         0.         0.         0.\n",
      " 0.         0.03902114 0.         0.         0.         0.\n",
      " 0.         0.         0.02926586 0.03902114 0.         0.00975529\n",
      " 0.00975529 0.         0.         0.         0.         0.\n",
      " 0.         0.         0.         0.         0.00975529 0.\n",
      " 0.         0.         0.        ]\n"
     ]
    }
   ],
   "source": [
    "# collect n-gram statitics for all training data \n",
    "TR_grams=np.zeros((len(N_GRAMS),langLabels.size), dtype='float') # initialize n-gram statistics for the  training\n",
    "\n",
    "for i in range(langLabels.size):\n",
    "    print(langLabels[0][i])\n",
    "\n",
    "    buf_chop=training[0][i] #pick the current portion\n",
    "    buf_chop=np.array2string(buf_chop) # get to string    \n",
    "    buf_chop=(buf_chop[3:len(buf_chop)-2]) # get rid of artefacts like []\n",
    "    \n",
    "    for jj in range(len(buf_chop)-(n_g-1)):        \n",
    "        ngc=buf_chop [jj:(jj+(n_g))] #pick current n-gram\n",
    "        ngc1= tuple(ngc)\n",
    "        ind_ngc=N_GRAMS.index(ngc1) # find index in  N_GRAMS\n",
    "        TR_grams[ind_ngc,i]+=1 #increment the corresponding statisticss\n",
    "\n",
    "    TR_grams[:,i]=TR_grams[:,i]/np.linalg.norm(TR_grams[:,i]) # normalize\n",
    "\n",
    "print(TR_grams[:,0])    "
   ]
  },
  {
   "cell_type": "code",
   "execution_count": 134,
   "metadata": {},
   "outputs": [],
   "source": [
    "# collect n-gram statitics for all testing data \n",
    "\n",
    "\n",
    "GT = [None] * langLabels.size * exm_size   #ground truth  \n",
    "PR = [None] * langLabels.size * exm_size   #predicton\n",
    "\n",
    "for i in range(langLabels.size):    \n",
    "    for j in range(exm_size): \n",
    "        TS_gram=np.zeros((len(N_GRAMS),1), dtype='float') # initialize n-gram statistics for the  test example\n",
    "        buf_chop=testing[j][i] #pick the current portion\n",
    "        buf_chop=np.array2string(buf_chop) # get to string    \n",
    "        buf_chop=buf_chop[3:len(buf_chop)-2] # get rid of artefacts like []\n",
    "        \n",
    "        for jj in range(len(buf_chop)-(n_g-1)): \n",
    "            ngc=buf_chop [jj:(jj+(n_g))] #pick current n-gram\n",
    "            ngc= tuple(ngc)\n",
    "            ind_ngc=N_GRAMS.index(ngc) # find index in  N_GRAMS            \n",
    "            TS_gram[ind_ngc,0]+=1 #increment the corresponding statisticss\n",
    "            \n",
    "        DP=np.dot(TS_gram.transpose(),TR_grams)\n",
    "        ind=np.argmax(DP) #  index of predictd language\n",
    "        PR[ i*exm_size +j ]=np.array2string(langLabels[0][ind])\n",
    "        GT[ i*exm_size +j ]=np.array2string(langLabels[0][i]) # add ground truth"
   ]
  },
  {
   "cell_type": "code",
   "execution_count": 66,
   "metadata": {},
   "outputs": [
    {
     "name": "stdout",
     "output_type": "stream",
     "text": [
      "0.8761904761904762\n"
     ]
    }
   ],
   "source": [
    "# accuracy \n",
    "acc=0.0\n",
    "for i in range(len(GT)):\n",
    "   acc+=(PR[i]==GT[i])\n",
    "\n",
    "acc=acc/len(GT) \n",
    "print(acc)"
   ]
  },
  {
   "cell_type": "code",
   "execution_count": 130,
   "metadata": {},
   "outputs": [
    {
     "data": {
      "text/plain": [
       "array(['bul', 'ces', 'dan', 'nld', 'deu', 'eng', 'est', 'fin', 'fra',\n",
       "       'ell', 'hun', 'ita', 'lav', 'lit', 'pol', 'por', 'ron', 'slk',\n",
       "       'slv', 'spa', 'swe'], dtype='<U32')"
      ]
     },
     "execution_count": 130,
     "metadata": {},
     "output_type": "execute_result"
    }
   ],
   "source": [
    "langLabels[0][1][0].tolist()\n",
    "Labels_arr=np.empty(21).astype(str)\n",
    "for i in range(21):\n",
    "    Labels_arr[i]=langLabels[0][i][0]\n",
    "    \n",
    "Labels_arr\n"
   ]
  },
  {
   "cell_type": "code",
   "execution_count": 133,
   "metadata": {},
   "outputs": [
    {
     "data": {
      "text/plain": [
       "<matplotlib.axes._subplots.AxesSubplot at 0x1a1ffbecf8>"
      ]
     },
     "execution_count": 133,
     "metadata": {},
     "output_type": "execute_result"
    },
    {
     "data": {
      "image/png": "[encoded data removed]",
      "text/plain": [
       "<Figure size 1296x1296 with 2 Axes>"
      ]
     },
     "metadata": {
      "needs_background": "light"
     },
     "output_type": "display_data"
    }
   ],
   "source": [
    "conf_mat= sklearn.metrics.confusion_matrix(GT, PR, labels=None, sample_weight=None)\n",
    "\n",
    "#plot confusion matrix\n",
    "%matplotlib inline\n",
    "df_cm = pd.DataFrame(conf_mat, index = [i for i in Labels_arr], columns = [j for j in Labels_arr])\n",
    "plt.figure(figsize = (18,18))\n",
    "sn.heatmap(df_cm, annot=True)"
   ]
  },
  {
   "cell_type": "code",
   "execution_count": null,
   "metadata": {},
   "outputs": [],
   "source": []
  }
 ],
 "metadata": {
  "kernelspec": {
   "display_name": "Python 3",
   "language": "python",
   "name": "python3"
  },
  "language_info": {
   "codemirror_mode": {
    "name": "ipython",
    "version": 3
   },
   "file_extension": ".py",
   "mimetype": "text/x-python",
   "name": "python",
   "nbconvert_exporter": "python",
   "pygments_lexer": "ipython3",
   "version": "3.6.8"
  }
 },
 "nbformat": 4,
 "nbformat_minor": 2
}
