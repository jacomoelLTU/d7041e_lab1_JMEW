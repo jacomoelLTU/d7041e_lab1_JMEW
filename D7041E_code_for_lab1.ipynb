{
 "cells": [
  {
   "cell_type": "markdown",
   "metadata": {},
   "source": [
    "# Task 1.1"
   ]
  },
  {
   "cell_type": "code",
<<<<<<< Updated upstream
   "execution_count": 72,
=======
   "execution_count": null,
>>>>>>> Stashed changes
   "metadata": {},
   "outputs": [],
   "source": [
    "import numpy as np\n",
    "import glob\n",
    "from PIL import Image\n",
    "from matplotlib import pyplot as plt"
   ]
  },
  {
   "cell_type": "markdown",
   "metadata": {},
   "source": [
    "Creating numpyArray"
   ]
  },
  {
   "cell_type": "code",
<<<<<<< Updated upstream
   "execution_count": 73,
   "metadata": {},
   "outputs": [
    {
     "data": {
      "text/plain": [
       "(25, 1, 28, 28, 3)"
      ]
     },
     "execution_count": 73,
     "metadata": {},
     "output_type": "execute_result"
    }
   ],
=======
   "execution_count": null,
   "metadata": {},
   "outputs": [],
>>>>>>> Stashed changes
   "source": [
    "#rezise images and prepare for \n",
    "n = 0 #Number of samples \n",
    "images = glob.glob(\"fruits/*.jpg\")\n",
    "newImages = []\n",
    "wantedX = 28\n",
    "wantedY = 28\n",
    "\n",
    "#add data to an array\n",
    "for img in images: \n",
    "    n+=1\n",
    "    img = Image.open(img)\n",
    "    newImg = img.resize((wantedX,wantedY))\n",
    "    #print(f\"Image {n} shape:\", np.array(newImg).shape)  # Print shape for debugging\n",
    "    newImages.append(newImg)\n",
    "\n",
    "\n",
    "numpyArr_fruits = np.stack(newImages, axis=0)\n",
    "numpyArr_fruits = numpyArr_fruits.astype(np.uint8)\n",
    "\n",
    "#store as a numpy array\n",
    "#numpyArr_fruits = np.array(newImages, dtype=np.uint8)\n",
    "numpyArr_fruits = normalize_image(numpyArr_fruits)\n",
    "\n",
    "np.save('samples.npy', numpyArr_fruits)"
   ]
  },
  {
   "cell_type": "markdown",
   "metadata": {},
   "source": [
    "Creating PlotSample method"
   ]
  },
  {
   "cell_type": "code",
<<<<<<< Updated upstream
   "execution_count": 74,
=======
   "execution_count": null,
>>>>>>> Stashed changes
   "metadata": {},
   "outputs": [],
   "source": [
    "\n",
    "def PlotSample(numpyArray, i):\n",
    "    color_image = numpyArray[i][0]\n",
    "    plt.imshow(color_image)\n",
    "    plt.show()\n",
    "\n",
    "\n",
    "def plot_images_in_grid(images):\n",
    "    num_rows = 5\n",
    "    num_cols = 5\n",
    "\n",
    "    fig, axes = plt.subplots(num_rows, num_cols, figsize=(8, 8))\n",
    "\n",
    "    for i in range(num_rows):\n",
    "        for j in range(num_cols):\n",
    "            index = i * num_cols + j\n",
    "            if index < len(images):\n",
    "                ax = axes[i, j]\n",
    "                image = images[index][0]\n",
    "                    \n",
    "                # Normalize the image if it's not in the [0, 1] range\n",
    "                if image.min() < 0 or image.max() > 1:\n",
    "                    image = (image - image.min()) / (image.max() - image.min())\n",
    "                \n",
    "                ax.imshow(image)\n",
    "               # print(image.shape, \"Index of picture \", index ,\" The [\",i,\"\",j,\"] image.\")\n",
    "                ax.axis('off')\n",
    "    plt.tight_layout()\n",
    "    plt.show()"
   ]
  },
  {
   "cell_type": "markdown",
   "metadata": {},
   "source": [
    "The preprocessing"
   ]
  },
  {
   "cell_type": "code",
<<<<<<< Updated upstream
   "execution_count": 75,
=======
   "execution_count": null,
>>>>>>> Stashed changes
   "metadata": {},
   "outputs": [],
   "source": [
    "#nomralize values to float range [0, 1]\n",
    "def normalize_image(images):\n",
    "    images = images.astype('float32')\n",
    "    images /=255.0\n",
    "    return images\n",
    "\n",
    "#Mean normalization\n",
    "def center(matrix):\n",
    "    numpyArr = matrix - np.mean(matrix, axis = 0)\n",
    "    return numpyArr\n",
    "\n",
    "#Standardization \n",
    "def standardize(matrix):\n",
    "    numpyArr = center(matrix)/np.std(matrix, axis = 0)\n",
    "    return numpyArr    \n",
    "\n",
    "#Decorrelate for whithen method\n",
    "def decorrelate(X):\n",
    "    XCentered = center(X)\n",
    "    cov = XCentered.T.dot(XCentered)/float(XCentered.shape[0])\n",
    "    # Calculate the eigenvalues and eigenvectors of the covariance matrix\n",
    "    eigVals, eigVecs = np.linalg.eig(cov)\n",
    "    # Apply the eigenvectors to X\n",
    "    decorrelated = X.dot(eigVecs)\n",
    "    return decorrelated\n",
    "\n",
    "def whitening(images):\n",
    "    original_shape = images.shape\n",
    "    flattened_images = images.reshape(original_shape[0], -1)\n",
    "    \n",
    "    # Step 1: Center the data by subtracting the mean\n",
    "    mean = np.mean(flattened_images, axis=0)\n",
    "    centered_images = flattened_images - mean\n",
    "\n",
    "    # Step 2: Calculate the covariance matrix\n",
    "    covariance_matrix = np.cov(centered_images, rowvar=False)\n",
    "\n",
    "    # Step 3: Calculate the eigenvalues and eigenvectors of the covariance matrix\n",
    "    eigenvalues, eigenvectors = np.linalg.eigh(covariance_matrix)\n",
    "\n",
    "    # Step 4: Sort eigenvalues in descending order and corresponding eigenvectors\n",
    "    sorted_indices = np.argsort(eigenvalues)[::-1]\n",
    "    eigenvalues = eigenvalues[sorted_indices]\n",
    "    eigenvectors = eigenvectors[:, sorted_indices]\n",
    "\n",
    "    # Step 5: Whitening transformation\n",
    "    whitened = np.dot(centered_images, eigenvectors)\n",
    "    whitened /= np.sqrt(eigenvalues + 1e-6)  # Add a small constant to avoid division by zero\n",
    "    \n",
    "    # Step 6: Inverse whitening transformation\n",
    "    reconstructed = np.dot(whitened, eigenvectors.T)\n",
    "    reconstructed = reconstructed + mean\n",
    "    \n",
    "    return reconstructed.reshape(original_shape)\n"
   ]
  },
  {
   "cell_type": "markdown",
   "metadata": {},
   "source": [
    "Main"
   ]
  },
  {
   "cell_type": "code",
<<<<<<< Updated upstream
   "execution_count": 76,
=======
   "execution_count": null,
>>>>>>> Stashed changes
   "metadata": {},
   "outputs": [],
   "source": [
    "numpyArr = np.load(\"samples.npy\")\n",
    "#PlotSample(numpyArr, 0) #one raw sample of the collected data\n",
    "print(\"raw data\")\n",
    "plot_images_in_grid(numpyArr)\n",
    "print(\"center\")\n",
    "plot_images_in_grid(center(numpyArr))\n",
    "print(\"standardize\")\n",
    "plot_images_in_grid(standardize(numpyArr))\n",
    "print(\"whiten\")\n",
    "plot_images_in_grid(whitening(numpyArr))\n",
    "plot_images_in_grid(whitening(standardize(center(numpyArr))))"
   ]
  },
  {
   "cell_type": "markdown",
   "metadata": {},
   "source": [
    "# Task 1.2"
   ]
  },
  {
   "cell_type": "markdown",
   "metadata": {},
   "source": [
    "Main"
   ]
  },
  {
   "cell_type": "code",
   "execution_count": 77,
   "metadata": {},
<<<<<<< Updated upstream
   "outputs": [
    {
     "name": "stdout",
     "output_type": "stream",
     "text": [
      "[0 1 2 3 4 5 6 7 8 9]\n",
      "[[-0.       -0.       -0.       ... -0.       -0.        9.227847]\n",
      " [-0.       -0.       -0.       ... -0.       -0.       -0.      ]\n",
      " [-0.       -0.       -0.       ... -0.       -0.       -0.      ]\n",
      " ...\n",
      " [-0.       -0.       -0.       ... -0.       -0.       -0.      ]\n",
      " [-0.       -0.       42.14771  ... -0.       -0.       -0.      ]\n",
      " [-0.       -0.       -0.       ... -0.       -0.       -0.      ]]\n",
      "[4 1 9 2 8 3 7 5 0 6]\n"
     ]
    }
   ],
   "source": [
=======
   "outputs": [],
   "source": [
    "\n",
    "#task 1.2\n",
>>>>>>> Stashed changes
    "import numpy as np\n",
    "import matplotlib.pyplot as plt\n",
    "import random\n",
    "\n",
    "labels = []\n",
    "embeddings = []\n",
    "npDataArrays = np.load(\"vecs.npy\", allow_pickle=True).item() #task 2.1.1\n",
    "\n",
    "def getPos(npDataArrays, number): #task 2.1.2\n",
    "    numberPos = list(npDataArrays.keys())[number]\n",
    "    return npDataArrays[numberPos]\n",
    "\n",
    "def getNumber(npPosDataArray, number): #task 2.1.2\n",
    "    numberKey = list(npPosDataArray.keys())[number]\n",
    "    return np.array(npPosDataArray[number])\n",
    "\n",
    "def getEmbeddings(npPosDataArray):\n",
    "    labels = np.array([list(npPosDataArray.keys())[i] for i in range(10)])\n",
    "    embeddings = [getNumber(npPosDataArray, i) for i in range(10)]\n",
    "    return labels, embeddings #task 2.1.2\n",
    "\n",
    "def permuteData(labels, numbers): #task 2.1.3\n",
    "    prem = np.random.permutation(len(labels))\n",
    "    labels = labels[prem]\n",
    "    embeddings = [numbers[i] for i in prem]\n",
    "    return labels, embeddings\n",
    "\n",
    "firstPos = getPos(npDataArrays, 0)   \n",
    "labels, embeddings = getEmbeddings(firstPos)\n",
    "\n",
    "#Sorted\n",
    "print(labels)   \n",
    "print(embeddings[0])\n",
    "\n",
    "labels, embeddings = permuteData(labels, embeddings) \n",
    "\n",
    "#Unsorted task 2.1.3\n",
    "print(labels)   \n",
    "print(embeddings[0])"
   ]
  },
  {
   "cell_type": "markdown",
   "metadata": {},
<<<<<<< Updated upstream
   "source": []
=======
   "source": [
    "# Task 2.1\n"
   ]
>>>>>>> Stashed changes
  },
  {
   "cell_type": "code",
   "execution_count": 78,
   "metadata": {},
   "outputs": [],
   "source": [
    "from keras.datasets import mnist"
   ]
  },
  {
   "cell_type": "code",
   "execution_count": 79,
   "metadata": {},
   "outputs": [],
   "source": [
    "(Xtr, Ltr), (X_test, L_test)=mnist.load_data()"
   ]
  },
  {
   "cell_type": "code",
   "execution_count": 80,
   "metadata": {},
<<<<<<< Updated upstream
   "outputs": [
    {
     "data": {
      "text/plain": [
       "(60000, 28, 28)"
      ]
     },
     "execution_count": 80,
     "metadata": {},
     "output_type": "execute_result"
    }
   ],
=======
   "outputs": [],
>>>>>>> Stashed changes
   "source": [
    "Xtr.shape"
   ]
  },
  {
   "cell_type": "code",
   "execution_count": 81,
   "metadata": {},
   "outputs": [],
   "source": [
    "Image=Xtr[0,:,:]\n",
    "Label=Ltr[0]\n",
    "\n",
    "\n",
    "plt.title('Label is {Label}'.format(Label=Label))\n",
    "plt.imshow(Image)\n",
    "\n",
    "plt.show()\n",
    "plt.close()\n"
   ]
  },
  {
   "cell_type": "code",
   "execution_count": 82,
   "metadata": {},
<<<<<<< Updated upstream
   "outputs": [
    {
     "name": "stderr",
     "output_type": "stream",
     "text": [
      "C:\\Users\\wiklu\\AppData\\Local\\Temp\\ipykernel_21360\\383047006.py:2: MatplotlibDeprecationWarning: Auto-removal of overlapping axes is deprecated since 3.6 and will be removed two minor releases later; explicitly call ax.remove() as needed.\n",
      "  ax0=plt.subplot(2,2,1)\n",
      "C:\\Users\\wiklu\\AppData\\Local\\Temp\\ipykernel_21360\\383047006.py:3: MatplotlibDeprecationWarning: Auto-removal of overlapping axes is deprecated since 3.6 and will be removed two minor releases later; explicitly call ax.remove() as needed.\n",
      "  ax1=plt.subplot(2,2,2)\n"
     ]
    },
    {
     "data": {
      "image/png": "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",
      "text/plain": [
       "<Figure size 1500x1500 with 2 Axes>"
      ]
     },
     "metadata": {},
     "output_type": "display_data"
    }
   ],
=======
   "outputs": [],
>>>>>>> Stashed changes
   "source": [
    "fig, ax=plt.subplots(nrows=1, ncols=2, figsize=(15,15))\n",
    "ax0=plt.subplot(2,2,1)\n",
    "ax1=plt.subplot(2,2,2)\n",
    "\n",
    "Image=Xtr[0,:,:]\n",
    "Label=Ltr[0]\n",
    "Image1=Xtr[1,:,:]\n",
    "Label1=Ltr[1]\n",
    "\n",
    "\n",
    "ax0.set_title('Label is {Label}'.format(Label=Label))\n",
    "ax0.imshow(Image)\n",
    "ax1.set_title('Label is {Label}'.format(Label=Label1))\n",
    "ax1.imshow(Image1)\n",
    "\n",
    "\n",
    "plt.show()\n",
    "plt.close()\n"
   ]
  },
  {
   "cell_type": "code",
   "execution_count": 83,
   "metadata": {},
<<<<<<< Updated upstream
   "outputs": [
    {
     "data": {
      "text/plain": [
       "784"
      ]
     },
     "execution_count": 83,
     "metadata": {},
     "output_type": "execute_result"
    }
   ],
=======
   "outputs": [],
>>>>>>> Stashed changes
   "source": [
    "28*28"
   ]
  },
  {
   "cell_type": "code",
   "execution_count": 84,
   "metadata": {},
<<<<<<< Updated upstream
   "outputs": [
    {
     "data": {
      "text/plain": [
       "(500, 784)"
      ]
     },
     "execution_count": 84,
     "metadata": {},
     "output_type": "execute_result"
    }
   ],
=======
   "outputs": [],
>>>>>>> Stashed changes
   "source": [
    "#Traing phase\n",
    "num_sample=500\n",
    "Tr_set=Xtr[:num_sample,:,:]\n",
    "Ltr_set=Ltr[:num_sample]\n",
    "\n",
<<<<<<< Updated upstream
    "#Tr_set=Tr_set.reshape(num_sample,Tr_set.shape[1]*Tr_set.shape[2]) # this were the bug, it needed to be handled as a tensor and not a scalar value. \n",
    "\n",
    "#print(type(Tr_set.shape))\n",
    "Tr_set.shape\n",
    "\n",
    "Tr_set=Tr_set.reshape(num_sample,Tr_set.shape[1]*Tr_set.shape[2]).astype(int) \n",
    "\n",
    "#print(type(Tr_set.shape))\n",
=======
    "#bug was in the code line below\n",
    "#Tr_set=Tr_set.reshape(num_sample,Tr_set.shape[1]*Tr_set.shape[2])\n",
    "Tr_set=Tr_set.reshape(num_sample,Tr_set.shape[1]*Tr_set.shape[2]).astype(int) \n",
    "\n",
>>>>>>> Stashed changes
    "Tr_set.shape"
   ]
  },
  {
   "cell_type": "code",
   "execution_count": 85,
   "metadata": {},
   "outputs": [],
   "source": [
    "def predict(X):\n",
    "    num_test=X.shape[0]\n",
    "    Lpred=np.zeros(num_test, dtype=Ltr_set.dtype)\n",
    "    \n",
    "    for i in range(num_test):\n",
    "        distances=np.sum(np.abs(Tr_set-X[i,:]),axis=1)\n",
    "        \n",
    "        min_index= np.argmin(distances)\n",
    "        Lpred[i]=Ltr_set[min_index]\n",
    "    return Lpred\n",
    "\n",
    "def predictL2(X):\n",
    "    num_test=X.shape[0]\n",
    "    Lpred=np.zeros(num_test, dtype=Ltr_set.dtype)\n",
    "    \n",
    "    for i in range(num_test):\n",
    "        distances = np.sqrt(np.sum((Tr_set - X[i, :])**2, axis=1))\n",
    "        \n",
    "        min_index= np.argmin(distances)\n",
    "        Lpred[i]=Ltr_set[min_index]\n",
    "    return Lpred"
   ]
  },
  {
   "cell_type": "code",
   "execution_count": 86,
   "metadata": {},
<<<<<<< Updated upstream
   "outputs": [
    {
     "name": "stdout",
     "output_type": "stream",
     "text": [
      "Accuracy: 0.811\n"
     ]
    }
   ],
=======
   "outputs": [],
>>>>>>> Stashed changes
   "source": [
    "Test_images=X_test.reshape(X_test.shape[0],X_test.shape[1]* X_test.shape[2])\n",
    "\n",
    "Labels_predicted=predict(Test_images)\n",
    "Labels_predictedL2 = predictL2(Test_images)\n",
    "\n",
    "print(\"Accuracy L1:\", np.mean(Labels_predicted==L_test))\n",
    "print(\"Accuracy L2:\", np.mean(Labels_predictedL2==L_test))\n",
    "\n",
    "\n",
    "\n",
    "# 2.1 tasks below\n",
    "# 1.BEFORE any changes we had approx 0.265 accuracy\n",
    "# 2. L_2 give an accuracy of 0.19\n",
    "# 3. the bug thing (mby need to explain why) new scores: Accuracy L1: 0.811 , Accuracy L2: 0.8294\n",
    "# 4. \n",
    "\n",
    "\n"
   ]
  },
  {
   "cell_type": "code",
   "execution_count": null,
   "metadata": {
    "collapsed": true
   },
   "outputs": [],
   "source": []
  }
 ],
 "metadata": {
  "kernelspec": {
   "display_name": "Python 3",
   "language": "python",
   "name": "python3"
  },
  "language_info": {
   "codemirror_mode": {
    "name": "ipython",
    "version": 3
   },
   "file_extension": ".py",
   "mimetype": "text/x-python",
   "name": "python",
   "nbconvert_exporter": "python",
   "pygments_lexer": "ipython3",
   "version": "3.11.0"
  }
 },
 "nbformat": 4,
 "nbformat_minor": 2
}
