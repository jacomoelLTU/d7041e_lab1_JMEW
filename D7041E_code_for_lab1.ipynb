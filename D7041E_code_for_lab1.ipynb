{
 "cells": [
  {
   "cell_type": "code",
   "execution_count": 46,
   "metadata": {},
   "outputs": [],
   "source": [
    "import numpy as np\n",
    "import glob\n",
    "from PIL import Image\n",
    "from matplotlib import pyplot as plt"
   ]
  },
  {
   "cell_type": "code",
   "execution_count": 47,
   "metadata": {},
   "outputs": [
    {
     "ename": "ModuleNotFoundError",
     "evalue": "No module named 'keras'",
     "output_type": "error",
     "traceback": [
      "\u001b[1;31m---------------------------------------------------------------------------\u001b[0m",
      "\u001b[1;31mModuleNotFoundError\u001b[0m                       Traceback (most recent call last)",
      "\u001b[1;32mc:\\Users\\moell\\OneDrive\\Documents\\UNI\\d7041e\\d7041e_lab1\\d7041e_lab1_JMEW\\D7041E_code_for_lab1.ipynb Cell 2\u001b[0m line \u001b[0;36m1\n\u001b[1;32m----> <a href='vscode-notebook-cell:/c%3A/Users/moell/OneDrive/Documents/UNI/d7041e/d7041e_lab1/d7041e_lab1_JMEW/D7041E_code_for_lab1.ipynb#X16sZmlsZQ%3D%3D?line=0'>1</a>\u001b[0m \u001b[39mfrom\u001b[39;00m \u001b[39mkeras\u001b[39;00m\u001b[39m.\u001b[39;00m\u001b[39mdatasets\u001b[39;00m \u001b[39mimport\u001b[39;00m mnist\n",
      "\u001b[1;31mModuleNotFoundError\u001b[0m: No module named 'keras'"
     ]
    }
   ],
   "source": [
    "from keras.datasets import mnist"
   ]
  },
  {
   "cell_type": "markdown",
   "metadata": {},
   "source": [
    "# Creating numpyArray"
   ]
  },
  {
   "cell_type": "code",
   "execution_count": null,
   "metadata": {},
   "outputs": [],
   "source": [
    "#rezise images and prepare for \n",
    "n = 0 #Number of samples \n",
    "images = glob.glob(\"fruits/*.jpg\")\n",
    "newImages = []\n",
    "wantedX = 28\n",
    "wantedY = 28\n",
    "\n",
    "#add data to an array\n",
    "for img in images: \n",
    "    n+=1\n",
    "    img = Image.open(img)\n",
    "    newImg = img.resize((wantedX,wantedY))\n",
    "    newImages.append([newImg])\n",
    "\n",
    "#store as a numpy array\n",
    "numpyArr_fruits = np.array(newImages, dtype=np.uint8)\n",
    "np.save('samples.npy', numpyArr_fruits)"
   ]
  },
  {
   "cell_type": "markdown",
   "metadata": {},
   "source": [
    "# Creating PlotSample method"
   ]
  },
  {
   "cell_type": "code",
   "execution_count": null,
   "metadata": {},
   "outputs": [],
   "source": [
    "def PlotSample(numpyArray, i):\n",
    "    color_image = numpyArray[i]\n",
    "    plt.imshow(color_image)\n",
    "    plt.show()\n",
    "\n"
   ]
  },
  {
   "cell_type": "markdown",
   "metadata": {},
   "source": [
    "# The preprocessing"
   ]
  },
  {
   "cell_type": "code",
   "execution_count": null,
   "metadata": {},
   "outputs": [],
   "source": [
    "#Mean normalization\n",
    "def center(matrix):\n",
    "    numpyArr = matrix - np.mean(matrix, axis = 0)\n",
    "    return numpyArr\n",
    "\n",
    "#Standardization \n",
    "def standardize(matrix):\n",
    "    numpyArr = center(matrix)/np.std(matrix, axis = 0)\n",
    "    return numpyArr    \n",
    "\n",
    "#Whiteening\n",
    "def whiten(X):\n",
    "    XCentered = center(X)\n",
    "    cov = XCentered.T.dot(XCentered)/float(XCentered.shape[0])\n",
    "    # Calculate the eigenvalues and eigenvectors of the covariance matrix\n",
    "    eigVals, eigVecs = np.linalg.eig(cov)\n",
    "    # Apply the eigenvectors to X\n",
    "    decorrelated = X.dot(eigVecs)\n",
    "    # Rescale the decorrelated data\n",
    "    whitened = decorrelated / np.sqrt(eigVals + 1e-5)\n",
    "    return whitened\n",
    "\n",
    "#Decorrelate for whithen method\n",
    "def decorrelate(X):\n",
    "    XCentered = center(X)\n",
    "    cov = XCentered.T.dot(XCentered)/float(XCentered.shape[0])\n",
    "    # Calculate the eigenvalues and eigenvectors of the covariance matrix\n",
    "    eigVals, eigVecs = np.linalg.eig(cov)\n",
    "    # Apply the eigenvectors to X\n",
    "    decorrelated = X.dot(eigVecs)\n",
    "    return decorrelated\n",
    "\n",
    "\n"
   ]
  },
  {
   "cell_type": "markdown",
   "metadata": {},
   "source": [
    "# Main"
   ]
  },
  {
   "cell_type": "code",
   "execution_count": null,
   "metadata": {},
   "outputs": [
    {
     "ename": "TypeError",
     "evalue": "Invalid shape (1, 28, 28, 3) for image data",
     "output_type": "error",
     "traceback": [
      "\u001b[1;31m---------------------------------------------------------------------------\u001b[0m",
      "\u001b[1;31mTypeError\u001b[0m                                 Traceback (most recent call last)",
      "\u001b[1;32mc:\\Users\\moell\\OneDrive\\Documents\\UNI\\d7041e\\d7041e_lab1\\d7041e_lab1_JMEW\\D7041E_code_for_lab1.ipynb Cell 10\u001b[0m line \u001b[0;36m2\n\u001b[0;32m      <a href='vscode-notebook-cell:/c%3A/Users/moell/OneDrive/Documents/UNI/d7041e/d7041e_lab1/d7041e_lab1_JMEW/D7041E_code_for_lab1.ipynb#X35sZmlsZQ%3D%3D?line=0'>1</a>\u001b[0m numpyArr \u001b[39m=\u001b[39m np\u001b[39m.\u001b[39mload(\u001b[39m\"\u001b[39m\u001b[39msamples.npy\u001b[39m\u001b[39m\"\u001b[39m)\n\u001b[1;32m----> <a href='vscode-notebook-cell:/c%3A/Users/moell/OneDrive/Documents/UNI/d7041e/d7041e_lab1/d7041e_lab1_JMEW/D7041E_code_for_lab1.ipynb#X35sZmlsZQ%3D%3D?line=1'>2</a>\u001b[0m PlotSample(numpyArr, \u001b[39m0\u001b[39;49m)\n",
      "\u001b[1;32mc:\\Users\\moell\\OneDrive\\Documents\\UNI\\d7041e\\d7041e_lab1\\d7041e_lab1_JMEW\\D7041E_code_for_lab1.ipynb Cell 10\u001b[0m line \u001b[0;36m2\n\u001b[0;32m      <a href='vscode-notebook-cell:/c%3A/Users/moell/OneDrive/Documents/UNI/d7041e/d7041e_lab1/d7041e_lab1_JMEW/D7041E_code_for_lab1.ipynb#X35sZmlsZQ%3D%3D?line=0'>1</a>\u001b[0m \u001b[39mdef\u001b[39;00m \u001b[39mPlotSample\u001b[39m(numpyArray, i):\n\u001b[1;32m----> <a href='vscode-notebook-cell:/c%3A/Users/moell/OneDrive/Documents/UNI/d7041e/d7041e_lab1/d7041e_lab1_JMEW/D7041E_code_for_lab1.ipynb#X35sZmlsZQ%3D%3D?line=1'>2</a>\u001b[0m     plt\u001b[39m.\u001b[39;49mimshow(numpyArray[i])\n\u001b[0;32m      <a href='vscode-notebook-cell:/c%3A/Users/moell/OneDrive/Documents/UNI/d7041e/d7041e_lab1/d7041e_lab1_JMEW/D7041E_code_for_lab1.ipynb#X35sZmlsZQ%3D%3D?line=2'>3</a>\u001b[0m     plt\u001b[39m.\u001b[39mshow()\n",
      "File \u001b[1;32m~\\AppData\\Roaming\\Python\\Python312\\site-packages\\matplotlib\\pyplot.py:3346\u001b[0m, in \u001b[0;36mimshow\u001b[1;34m(X, cmap, norm, aspect, interpolation, alpha, vmin, vmax, origin, extent, interpolation_stage, filternorm, filterrad, resample, url, data, **kwargs)\u001b[0m\n\u001b[0;32m   3325\u001b[0m \u001b[39m@_copy_docstring_and_deprecators\u001b[39m(Axes\u001b[39m.\u001b[39mimshow)\n\u001b[0;32m   3326\u001b[0m \u001b[39mdef\u001b[39;00m \u001b[39mimshow\u001b[39m(\n\u001b[0;32m   3327\u001b[0m     X: ArrayLike \u001b[39m|\u001b[39m PIL\u001b[39m.\u001b[39mImage\u001b[39m.\u001b[39mImage,\n\u001b[1;32m   (...)\u001b[0m\n\u001b[0;32m   3344\u001b[0m     \u001b[39m*\u001b[39m\u001b[39m*\u001b[39mkwargs,\n\u001b[0;32m   3345\u001b[0m ) \u001b[39m-\u001b[39m\u001b[39m>\u001b[39m AxesImage:\n\u001b[1;32m-> 3346\u001b[0m     __ret \u001b[39m=\u001b[39m gca()\u001b[39m.\u001b[39;49mimshow(\n\u001b[0;32m   3347\u001b[0m         X,\n\u001b[0;32m   3348\u001b[0m         cmap\u001b[39m=\u001b[39;49mcmap,\n\u001b[0;32m   3349\u001b[0m         norm\u001b[39m=\u001b[39;49mnorm,\n\u001b[0;32m   3350\u001b[0m         aspect\u001b[39m=\u001b[39;49maspect,\n\u001b[0;32m   3351\u001b[0m         interpolation\u001b[39m=\u001b[39;49minterpolation,\n\u001b[0;32m   3352\u001b[0m         alpha\u001b[39m=\u001b[39;49malpha,\n\u001b[0;32m   3353\u001b[0m         vmin\u001b[39m=\u001b[39;49mvmin,\n\u001b[0;32m   3354\u001b[0m         vmax\u001b[39m=\u001b[39;49mvmax,\n\u001b[0;32m   3355\u001b[0m         origin\u001b[39m=\u001b[39;49morigin,\n\u001b[0;32m   3356\u001b[0m         extent\u001b[39m=\u001b[39;49mextent,\n\u001b[0;32m   3357\u001b[0m         interpolation_stage\u001b[39m=\u001b[39;49minterpolation_stage,\n\u001b[0;32m   3358\u001b[0m         filternorm\u001b[39m=\u001b[39;49mfilternorm,\n\u001b[0;32m   3359\u001b[0m         filterrad\u001b[39m=\u001b[39;49mfilterrad,\n\u001b[0;32m   3360\u001b[0m         resample\u001b[39m=\u001b[39;49mresample,\n\u001b[0;32m   3361\u001b[0m         url\u001b[39m=\u001b[39;49murl,\n\u001b[0;32m   3362\u001b[0m         \u001b[39m*\u001b[39;49m\u001b[39m*\u001b[39;49m({\u001b[39m\"\u001b[39;49m\u001b[39mdata\u001b[39;49m\u001b[39m\"\u001b[39;49m: data} \u001b[39mif\u001b[39;49;00m data \u001b[39mis\u001b[39;49;00m \u001b[39mnot\u001b[39;49;00m \u001b[39mNone\u001b[39;49;00m \u001b[39melse\u001b[39;49;00m {}),\n\u001b[0;32m   3363\u001b[0m         \u001b[39m*\u001b[39;49m\u001b[39m*\u001b[39;49mkwargs,\n\u001b[0;32m   3364\u001b[0m     )\n\u001b[0;32m   3365\u001b[0m     sci(__ret)\n\u001b[0;32m   3366\u001b[0m     \u001b[39mreturn\u001b[39;00m __ret\n",
      "File \u001b[1;32m~\\AppData\\Roaming\\Python\\Python312\\site-packages\\matplotlib\\__init__.py:1478\u001b[0m, in \u001b[0;36m_preprocess_data.<locals>.inner\u001b[1;34m(ax, data, *args, **kwargs)\u001b[0m\n\u001b[0;32m   1475\u001b[0m \u001b[39m@functools\u001b[39m\u001b[39m.\u001b[39mwraps(func)\n\u001b[0;32m   1476\u001b[0m \u001b[39mdef\u001b[39;00m \u001b[39minner\u001b[39m(ax, \u001b[39m*\u001b[39margs, data\u001b[39m=\u001b[39m\u001b[39mNone\u001b[39;00m, \u001b[39m*\u001b[39m\u001b[39m*\u001b[39mkwargs):\n\u001b[0;32m   1477\u001b[0m     \u001b[39mif\u001b[39;00m data \u001b[39mis\u001b[39;00m \u001b[39mNone\u001b[39;00m:\n\u001b[1;32m-> 1478\u001b[0m         \u001b[39mreturn\u001b[39;00m func(ax, \u001b[39m*\u001b[39;49m\u001b[39mmap\u001b[39;49m(sanitize_sequence, args), \u001b[39m*\u001b[39;49m\u001b[39m*\u001b[39;49mkwargs)\n\u001b[0;32m   1480\u001b[0m     bound \u001b[39m=\u001b[39m new_sig\u001b[39m.\u001b[39mbind(ax, \u001b[39m*\u001b[39margs, \u001b[39m*\u001b[39m\u001b[39m*\u001b[39mkwargs)\n\u001b[0;32m   1481\u001b[0m     auto_label \u001b[39m=\u001b[39m (bound\u001b[39m.\u001b[39marguments\u001b[39m.\u001b[39mget(label_namer)\n\u001b[0;32m   1482\u001b[0m                   \u001b[39mor\u001b[39;00m bound\u001b[39m.\u001b[39mkwargs\u001b[39m.\u001b[39mget(label_namer))\n",
      "File \u001b[1;32m~\\AppData\\Roaming\\Python\\Python312\\site-packages\\matplotlib\\axes\\_axes.py:5751\u001b[0m, in \u001b[0;36mAxes.imshow\u001b[1;34m(self, X, cmap, norm, aspect, interpolation, alpha, vmin, vmax, origin, extent, interpolation_stage, filternorm, filterrad, resample, url, **kwargs)\u001b[0m\n\u001b[0;32m   5748\u001b[0m \u001b[39mif\u001b[39;00m aspect \u001b[39mis\u001b[39;00m \u001b[39mnot\u001b[39;00m \u001b[39mNone\u001b[39;00m:\n\u001b[0;32m   5749\u001b[0m     \u001b[39mself\u001b[39m\u001b[39m.\u001b[39mset_aspect(aspect)\n\u001b[1;32m-> 5751\u001b[0m im\u001b[39m.\u001b[39;49mset_data(X)\n\u001b[0;32m   5752\u001b[0m im\u001b[39m.\u001b[39mset_alpha(alpha)\n\u001b[0;32m   5753\u001b[0m \u001b[39mif\u001b[39;00m im\u001b[39m.\u001b[39mget_clip_path() \u001b[39mis\u001b[39;00m \u001b[39mNone\u001b[39;00m:\n\u001b[0;32m   5754\u001b[0m     \u001b[39m# image does not already have clipping set, clip to axes patch\u001b[39;00m\n",
      "File \u001b[1;32m~\\AppData\\Roaming\\Python\\Python312\\site-packages\\matplotlib\\image.py:723\u001b[0m, in \u001b[0;36m_ImageBase.set_data\u001b[1;34m(self, A)\u001b[0m\n\u001b[0;32m    721\u001b[0m \u001b[39mif\u001b[39;00m \u001b[39misinstance\u001b[39m(A, PIL\u001b[39m.\u001b[39mImage\u001b[39m.\u001b[39mImage):\n\u001b[0;32m    722\u001b[0m     A \u001b[39m=\u001b[39m pil_to_array(A)  \u001b[39m# Needed e.g. to apply png palette.\u001b[39;00m\n\u001b[1;32m--> 723\u001b[0m \u001b[39mself\u001b[39m\u001b[39m.\u001b[39m_A \u001b[39m=\u001b[39m \u001b[39mself\u001b[39;49m\u001b[39m.\u001b[39;49m_normalize_image_array(A)\n\u001b[0;32m    724\u001b[0m \u001b[39mself\u001b[39m\u001b[39m.\u001b[39m_imcache \u001b[39m=\u001b[39m \u001b[39mNone\u001b[39;00m\n\u001b[0;32m    725\u001b[0m \u001b[39mself\u001b[39m\u001b[39m.\u001b[39mstale \u001b[39m=\u001b[39m \u001b[39mTrue\u001b[39;00m\n",
      "File \u001b[1;32m~\\AppData\\Roaming\\Python\\Python312\\site-packages\\matplotlib\\image.py:693\u001b[0m, in \u001b[0;36m_ImageBase._normalize_image_array\u001b[1;34m(A)\u001b[0m\n\u001b[0;32m    691\u001b[0m     A \u001b[39m=\u001b[39m A\u001b[39m.\u001b[39msqueeze(\u001b[39m-\u001b[39m\u001b[39m1\u001b[39m)  \u001b[39m# If just (M, N, 1), assume scalar and apply colormap.\u001b[39;00m\n\u001b[0;32m    692\u001b[0m \u001b[39mif\u001b[39;00m \u001b[39mnot\u001b[39;00m (A\u001b[39m.\u001b[39mndim \u001b[39m==\u001b[39m \u001b[39m2\u001b[39m \u001b[39mor\u001b[39;00m A\u001b[39m.\u001b[39mndim \u001b[39m==\u001b[39m \u001b[39m3\u001b[39m \u001b[39mand\u001b[39;00m A\u001b[39m.\u001b[39mshape[\u001b[39m-\u001b[39m\u001b[39m1\u001b[39m] \u001b[39min\u001b[39;00m [\u001b[39m3\u001b[39m, \u001b[39m4\u001b[39m]):\n\u001b[1;32m--> 693\u001b[0m     \u001b[39mraise\u001b[39;00m \u001b[39mTypeError\u001b[39;00m(\u001b[39mf\u001b[39m\u001b[39m\"\u001b[39m\u001b[39mInvalid shape \u001b[39m\u001b[39m{\u001b[39;00mA\u001b[39m.\u001b[39mshape\u001b[39m}\u001b[39;00m\u001b[39m for image data\u001b[39m\u001b[39m\"\u001b[39m)\n\u001b[0;32m    694\u001b[0m \u001b[39mif\u001b[39;00m A\u001b[39m.\u001b[39mndim \u001b[39m==\u001b[39m \u001b[39m3\u001b[39m:\n\u001b[0;32m    695\u001b[0m     \u001b[39m# If the input data has values outside the valid range (after\u001b[39;00m\n\u001b[0;32m    696\u001b[0m     \u001b[39m# normalisation), we issue a warning and then clip X to the bounds\u001b[39;00m\n\u001b[0;32m    697\u001b[0m     \u001b[39m# - otherwise casting wraps extreme values, hiding outliers and\u001b[39;00m\n\u001b[0;32m    698\u001b[0m     \u001b[39m# making reliable interpretation impossible.\u001b[39;00m\n\u001b[0;32m    699\u001b[0m     high \u001b[39m=\u001b[39m \u001b[39m255\u001b[39m \u001b[39mif\u001b[39;00m np\u001b[39m.\u001b[39missubdtype(A\u001b[39m.\u001b[39mdtype, np\u001b[39m.\u001b[39minteger) \u001b[39melse\u001b[39;00m \u001b[39m1\u001b[39m\n",
      "\u001b[1;31mTypeError\u001b[0m: Invalid shape (1, 28, 28, 3) for image data"
     ]
    },
    {
     "data": {
      "image/png": "[encoded data removed]",
      "text/plain": [
       "<Figure size 640x480 with 1 Axes>"
      ]
     },
     "metadata": {},
     "output_type": "display_data"
    }
   ],
   "source": [
    "numpyArr = np.load(\"samples.npy\")\n",
    "PlotSample(numpyArr_fruits, 0)"
   ]
  },
  {
   "cell_type": "code",
   "execution_count": null,
   "metadata": {},
   "outputs": [],
   "source": [
    "(Xtr, Ltr), (X_test, L_test)=mnist.load_data()"
   ]
  },
  {
   "cell_type": "code",
   "execution_count": null,
   "metadata": {},
   "outputs": [
    {
     "data": {
      "text/plain": [
       "(60000, 28, 28)"
      ]
     },
     "execution_count": 4,
     "metadata": {},
     "output_type": "execute_result"
    }
   ],
   "source": [
    "Xtr.shape"
   ]
  },
  {
   "cell_type": "code",
   "execution_count": null,
   "metadata": {},
   "outputs": [
    {
     "data": {
      "image/png": "[encoded data removed]",
      "text/plain": [
       "<Figure size 432x288 with 1 Axes>"
      ]
     },
     "metadata": {
      "needs_background": "light"
     },
     "output_type": "display_data"
    }
   ],
   "source": [
    "Image=Xtr[0,:,:]\n",
    "Label=Ltr[0]\n",
    "\n",
    "\n",
    "plt.title('Label is {Label}'.format(Label=Label))\n",
    "plt.imshow(Image)\n",
    "\n",
    "plt.show()\n",
    "plt.close()\n"
   ]
  },
  {
   "cell_type": "code",
   "execution_count": null,
   "metadata": {},
   "outputs": [
    {
     "data": {
      "image/png": "[encoded data removed]",
      "text/plain": [
       "<Figure size 1080x1080 with 2 Axes>"
      ]
     },
     "metadata": {
      "needs_background": "light"
     },
     "output_type": "display_data"
    }
   ],
   "source": [
    "fig, ax=plt.subplots(nrows=1, ncols=2, figsize=(15,15))\n",
    "ax0=plt.subplot(2,2,1)\n",
    "ax1=plt.subplot(2,2,2)\n",
    "\n",
    "Image=Xtr[0,:,:]\n",
    "Label=Ltr[0]\n",
    "Image1=Xtr[1,:,:]\n",
    "Label1=Ltr[1]\n",
    "\n",
    "\n",
    "ax0.set_title('Label is {Label}'.format(Label=Label))\n",
    "ax0.imshow(Image)\n",
    "ax1.set_title('Label is {Label}'.format(Label=Label1))\n",
    "ax1.imshow(Image1)\n",
    "\n",
    "\n",
    "plt.show()\n",
    "plt.close()\n"
   ]
  },
  {
   "cell_type": "code",
   "execution_count": null,
   "metadata": {},
   "outputs": [
    {
     "data": {
      "text/plain": [
       "784"
      ]
     },
     "execution_count": 7,
     "metadata": {},
     "output_type": "execute_result"
    }
   ],
   "source": [
    "28*28"
   ]
  },
  {
   "cell_type": "code",
   "execution_count": null,
   "metadata": {},
   "outputs": [
    {
     "data": {
      "text/plain": [
       "(500, 784)"
      ]
     },
     "execution_count": 14,
     "metadata": {},
     "output_type": "execute_result"
    }
   ],
   "source": [
    "#Traing phase\n",
    "num_sample=500\n",
    "Tr_set=Xtr[:num_sample,:,:]\n",
    "Ltr_set=Ltr[:num_sample]\n",
    "\n",
    "Tr_set=Tr_set.reshape(num_sample,Tr_set.shape[1]*Tr_set.shape[2])\n",
    "\n",
    "#Tr_set=Tr_set.reshape(num_sample,Tr_set.shape[1]*Tr_set.shape[2]).astype()\n",
    "Tr_set.shape"
   ]
  },
  {
   "cell_type": "code",
   "execution_count": null,
   "metadata": {},
   "outputs": [],
   "source": [
    "def predict(X):\n",
    "    num_test=X.shape[0]\n",
    "    Lpred=np.zeros(num_test, dtype=Ltr_set.dtype)\n",
    "    \n",
    "    for i in range(num_test):\n",
    "        distances=np.sum(np.abs(Tr_set-X[i,:]),axis=1)\n",
    "        \n",
    "        min_index= np.argmin(distances)\n",
    "        Lpred[i]=Ltr_set[min_index]\n",
    "    return Lpred"
   ]
  },
  {
   "cell_type": "code",
   "execution_count": null,
   "metadata": {},
   "outputs": [
    {
     "name": "stdout",
     "output_type": "stream",
     "text": [
      "Accuracy: 0.811\n"
     ]
    }
   ],
   "source": [
    "Test_images=X_test.reshape(X_test.shape[0],X_test.shape[1]* X_test.shape[2])\n",
    "Labels_predicted=predict(Test_images)\n",
    "\n",
    "print(\"Accuracy:\", np.mean(Labels_predicted==L_test))\n",
    "\n"
   ]
  },
  {
   "cell_type": "code",
   "execution_count": null,
   "metadata": {
    "collapsed": true
   },
   "outputs": [],
   "source": []
  }
 ],
 "metadata": {
  "kernelspec": {
   "display_name": "Python 3",
   "language": "python",
   "name": "python3"
  },
  "language_info": {
   "codemirror_mode": {
    "name": "ipython",
    "version": 3
   },
   "file_extension": ".py",
   "mimetype": "text/x-python",
   "name": "python",
   "nbconvert_exporter": "python",
   "pygments_lexer": "ipython3",
   "version": "3.12.0"
  }
 },
 "nbformat": 4,
 "nbformat_minor": 2
}
